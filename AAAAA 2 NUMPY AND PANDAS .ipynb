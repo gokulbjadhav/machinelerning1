{
 "cells": [
  {
   "cell_type": "markdown",
   "id": "905cb92f",
   "metadata": {},
   "source": [
    "### NUMPY->PLAY WITH ARRAYS(NUMBER)\n",
    "### PANDAS->DATASET\n",
    "### MATPLOTLIB->DATA VISUALIZATION\n",
    "### SEABORN->DATA VISUALIZATION\n",
    "### SCIPY->STATISTICAL\n",
    "\n",
    "\n",
    "\n",
    "\n",
    "\n",
    "\n",
    "\n"
   ]
  },
  {
   "cell_type": "markdown",
   "id": "d98506b4",
   "metadata": {},
   "source": [
    "## NUMPY->PLAY WITH ARRAYS(NUMBER)\n"
   ]
  },
  {
   "cell_type": "code",
   "execution_count": 1,
   "id": "16241169",
   "metadata": {},
   "outputs": [],
   "source": [
    "import numpy as np"
   ]
  },
  {
   "cell_type": "code",
   "execution_count": 2,
   "id": "162336f9",
   "metadata": {},
   "outputs": [
    {
     "data": {
      "text/plain": [
       "array([6, 7, 8])"
      ]
     },
     "execution_count": 2,
     "metadata": {},
     "output_type": "execute_result"
    }
   ],
   "source": [
    "simple_list=[6,7,8]\n",
    "np.array(simple_list)"
   ]
  },
  {
   "cell_type": "code",
   "execution_count": 3,
   "id": "79853e09",
   "metadata": {},
   "outputs": [
    {
     "data": {
      "text/plain": [
       "array([1, 2, 3])"
      ]
     },
     "execution_count": 3,
     "metadata": {},
     "output_type": "execute_result"
    }
   ],
   "source": [
    "arr=np.array([1,2,3])\n",
    "arr"
   ]
  },
  {
   "cell_type": "code",
   "execution_count": 4,
   "id": "bad230c5",
   "metadata": {},
   "outputs": [
    {
     "data": {
      "text/plain": [
       "array([[1, 2, 3],\n",
       "       [4, 5, 6],\n",
       "       [7, 8, 9]])"
      ]
     },
     "execution_count": 4,
     "metadata": {},
     "output_type": "execute_result"
    }
   ],
   "source": [
    "list_of_lists=[[1,2,3],[4,5,6],[7,8,9]]\n",
    "np.array(list_of_lists)"
   ]
  },
  {
   "cell_type": "code",
   "execution_count": 6,
   "id": "83e533ac",
   "metadata": {},
   "outputs": [
    {
     "data": {
      "text/plain": [
       "array([ 5,  6,  7,  8,  9, 10, 11, 12, 13, 14, 15, 16, 17, 18, 19, 20, 21,\n",
       "       22, 23, 24])"
      ]
     },
     "execution_count": 6,
     "metadata": {},
     "output_type": "execute_result"
    }
   ],
   "source": [
    "np.arange(5,25)"
   ]
  },
  {
   "cell_type": "code",
   "execution_count": 7,
   "id": "faac3a8c",
   "metadata": {},
   "outputs": [
    {
     "data": {
      "text/plain": [
       "array([ 1,  2,  3,  4,  5,  6,  7,  8,  9, 10, 11, 12, 13, 14, 15, 16, 17,\n",
       "       18, 19, 20, 21, 22, 23, 24, 25, 26, 27, 28, 29, 30, 31, 32, 33, 34,\n",
       "       35, 36, 37, 38, 39, 40, 41, 42, 43, 44, 45, 46, 47, 48, 49, 50, 51,\n",
       "       52, 53, 54, 55, 56, 57, 58, 59, 60, 61, 62, 63, 64, 65, 66, 67, 68,\n",
       "       69, 70, 71, 72, 73, 74, 75, 76, 77, 78, 79, 80, 81, 82, 83, 84, 85,\n",
       "       86, 87, 88, 89, 90, 91, 92, 93, 94, 95, 96, 97, 98])"
      ]
     },
     "execution_count": 7,
     "metadata": {},
     "output_type": "execute_result"
    }
   ],
   "source": [
    "np.arange(1,99)"
   ]
  },
  {
   "cell_type": "code",
   "execution_count": 8,
   "id": "7554b330",
   "metadata": {},
   "outputs": [
    {
     "data": {
      "text/plain": [
       "array([    6,     7,     8, ..., 78539, 78540, 78541])"
      ]
     },
     "execution_count": 8,
     "metadata": {},
     "output_type": "execute_result"
    }
   ],
   "source": [
    "np.arange(6,78542)"
   ]
  },
  {
   "cell_type": "code",
   "execution_count": 9,
   "id": "066c5451",
   "metadata": {},
   "outputs": [
    {
     "data": {
      "text/plain": [
       "array([ 1,  6, 11, 16, 21, 26, 31])"
      ]
     },
     "execution_count": 9,
     "metadata": {},
     "output_type": "execute_result"
    }
   ],
   "source": [
    "np.arange(1,36,5)    ### shift+tab for hrlp "
   ]
  },
  {
   "cell_type": "code",
   "execution_count": 10,
   "id": "e05bb38e",
   "metadata": {},
   "outputs": [
    {
     "data": {
      "text/plain": [
       "array([ 5,  8, 11, 14, 17, 20, 23, 26, 29, 32, 35, 38, 41, 44, 47, 50, 53,\n",
       "       56, 59, 62, 65, 68, 71, 74, 77, 80, 83, 86, 89, 92, 95, 98])"
      ]
     },
     "execution_count": 10,
     "metadata": {},
     "output_type": "execute_result"
    }
   ],
   "source": [
    "np.arange(5,99,3)"
   ]
  },
  {
   "cell_type": "code",
   "execution_count": 11,
   "id": "c68c00d1",
   "metadata": {},
   "outputs": [
    {
     "data": {
      "text/plain": [
       "array([  0, 125, 250, 375, 500, 625, 750])"
      ]
     },
     "execution_count": 11,
     "metadata": {},
     "output_type": "execute_result"
    }
   ],
   "source": [
    "np.arange(0,785,125)"
   ]
  },
  {
   "cell_type": "code",
   "execution_count": 12,
   "id": "8df148c8",
   "metadata": {},
   "outputs": [
    {
     "data": {
      "text/plain": [
       "array([0, 1, 2, 3, 4])"
      ]
     },
     "execution_count": 12,
     "metadata": {},
     "output_type": "execute_result"
    }
   ],
   "source": [
    "np.arange(5)"
   ]
  },
  {
   "cell_type": "code",
   "execution_count": 13,
   "id": "750def57",
   "metadata": {},
   "outputs": [
    {
     "data": {
      "text/plain": [
       "array([ 0,  1,  2,  3,  4,  5,  6,  7,  8,  9, 10, 11, 12, 13, 14, 15, 16,\n",
       "       17, 18, 19, 20, 21, 22, 23, 24, 25, 26, 27, 28, 29, 30, 31, 32, 33,\n",
       "       34, 35, 36, 37, 38, 39, 40, 41, 42, 43, 44, 45, 46, 47, 48, 49, 50,\n",
       "       51, 52, 53, 54, 55, 56, 57, 58, 59, 60, 61, 62, 63, 64, 65, 66, 67,\n",
       "       68, 69, 70, 71, 72, 73, 74, 75, 76, 77, 78, 79, 80, 81, 82, 83, 84])"
      ]
     },
     "execution_count": 13,
     "metadata": {},
     "output_type": "execute_result"
    }
   ],
   "source": [
    "np.arange(85)"
   ]
  },
  {
   "cell_type": "code",
   "execution_count": 14,
   "id": "d06ba098",
   "metadata": {},
   "outputs": [
    {
     "data": {
      "text/plain": [
       "array([0, 1, 2, 3, 4, 5, 6, 7, 8])"
      ]
     },
     "execution_count": 14,
     "metadata": {},
     "output_type": "execute_result"
    }
   ],
   "source": [
    "np.arange(9)"
   ]
  },
  {
   "cell_type": "code",
   "execution_count": 15,
   "id": "07681003",
   "metadata": {},
   "outputs": [
    {
     "data": {
      "text/plain": [
       "array([0., 0., 0., 0., 0., 0., 0., 0., 0., 0.])"
      ]
     },
     "execution_count": 15,
     "metadata": {},
     "output_type": "execute_result"
    }
   ],
   "source": [
    "np.zeros(10)"
   ]
  },
  {
   "cell_type": "code",
   "execution_count": 17,
   "id": "a6039730",
   "metadata": {},
   "outputs": [
    {
     "data": {
      "text/plain": [
       "array([0., 0., 0., 0., 0., 0., 0., 0., 0., 0., 0., 0., 0., 0., 0., 0., 0.,\n",
       "       0., 0., 0., 0., 0., 0., 0., 0., 0., 0., 0., 0., 0., 0., 0., 0., 0.,\n",
       "       0., 0., 0., 0., 0., 0., 0., 0., 0., 0., 0., 0., 0., 0., 0., 0., 0.,\n",
       "       0.])"
      ]
     },
     "execution_count": 17,
     "metadata": {},
     "output_type": "execute_result"
    }
   ],
   "source": [
    "np.zeros(52)"
   ]
  },
  {
   "cell_type": "code",
   "execution_count": 18,
   "id": "773f643c",
   "metadata": {},
   "outputs": [
    {
     "data": {
      "text/plain": [
       "array([0, 0, 0, 0, 0, 0, 0, 0, 0, 0])"
      ]
     },
     "execution_count": 18,
     "metadata": {},
     "output_type": "execute_result"
    }
   ],
   "source": [
    "np.zeros(10,int)"
   ]
  },
  {
   "cell_type": "code",
   "execution_count": 19,
   "id": "f7f86774",
   "metadata": {},
   "outputs": [
    {
     "data": {
      "text/plain": [
       "array([1, 1, 1, 1, 1, 1, 1, 1, 1, 1])"
      ]
     },
     "execution_count": 19,
     "metadata": {},
     "output_type": "execute_result"
    }
   ],
   "source": [
    "np.ones(10,int)"
   ]
  },
  {
   "cell_type": "code",
   "execution_count": 22,
   "id": "86ec20c7",
   "metadata": {},
   "outputs": [
    {
     "data": {
      "text/plain": [
       "array([[1, 1, 1],\n",
       "       [1, 1, 1]])"
      ]
     },
     "execution_count": 22,
     "metadata": {},
     "output_type": "execute_result"
    }
   ],
   "source": [
    "np.ones((2,3),int )"
   ]
  },
  {
   "cell_type": "code",
   "execution_count": 21,
   "id": "c6bc6c62",
   "metadata": {},
   "outputs": [
    {
     "data": {
      "text/plain": [
       "array([[1., 1., 1., 1., 1., 1., 1., 1., 1.],\n",
       "       [1., 1., 1., 1., 1., 1., 1., 1., 1.],\n",
       "       [1., 1., 1., 1., 1., 1., 1., 1., 1.],\n",
       "       [1., 1., 1., 1., 1., 1., 1., 1., 1.],\n",
       "       [1., 1., 1., 1., 1., 1., 1., 1., 1.]])"
      ]
     },
     "execution_count": 21,
     "metadata": {},
     "output_type": "execute_result"
    }
   ],
   "source": [
    "np.ones((5,9))"
   ]
  },
  {
   "cell_type": "code",
   "execution_count": 24,
   "id": "0766f330",
   "metadata": {},
   "outputs": [
    {
     "data": {
      "text/plain": [
       "array([1, 1, 1, 1, 1, 1, 1, 1, 1, 1, 1, 1, 1, 1, 1, 1, 1, 1, 1, 1, 1, 1,\n",
       "       1, 1, 1, 1, 1, 1, 1, 1, 1, 1, 1, 1, 1, 1, 1, 1, 1, 1, 1, 1, 1, 1,\n",
       "       1, 1, 1, 1, 1, 1, 1, 1, 1, 1, 1, 1, 1, 1, 1, 1, 1, 1, 1, 1, 1, 1,\n",
       "       1, 1, 1, 1, 1, 1, 1, 1, 1, 1, 1, 1, 1, 1, 1, 1, 1, 1, 1, 1, 1, 1,\n",
       "       1, 1, 1, 1, 1, 1, 1, 1, 1, 1, 1, 1])"
      ]
     },
     "execution_count": 24,
     "metadata": {},
     "output_type": "execute_result"
    }
   ],
   "source": [
    "np.ones(100,int)"
   ]
  },
  {
   "cell_type": "code",
   "execution_count": 27,
   "id": "9b89df03",
   "metadata": {},
   "outputs": [
    {
     "data": {
      "text/plain": [
       "array([0.        , 0.05128205, 0.1025641 , 0.15384615, 0.20512821,\n",
       "       0.25641026, 0.30769231, 0.35897436, 0.41025641, 0.46153846,\n",
       "       0.51282051, 0.56410256, 0.61538462, 0.66666667, 0.71794872,\n",
       "       0.76923077, 0.82051282, 0.87179487, 0.92307692, 0.97435897,\n",
       "       1.02564103, 1.07692308, 1.12820513, 1.17948718, 1.23076923,\n",
       "       1.28205128, 1.33333333, 1.38461538, 1.43589744, 1.48717949,\n",
       "       1.53846154, 1.58974359, 1.64102564, 1.69230769, 1.74358974,\n",
       "       1.79487179, 1.84615385, 1.8974359 , 1.94871795, 2.        ])"
      ]
     },
     "execution_count": 27,
     "metadata": {},
     "output_type": "execute_result"
    }
   ],
   "source": [
    "np.linspace(0,2,40)"
   ]
  },
  {
   "cell_type": "code",
   "execution_count": 28,
   "id": "9f35f8c7",
   "metadata": {},
   "outputs": [
    {
     "data": {
      "text/plain": [
       "array([  1.        ,  21.36734694,  41.73469388,  62.10204082,\n",
       "        82.46938776, 102.83673469, 123.20408163, 143.57142857,\n",
       "       163.93877551, 184.30612245, 204.67346939, 225.04081633,\n",
       "       245.40816327, 265.7755102 , 286.14285714, 306.51020408,\n",
       "       326.87755102, 347.24489796, 367.6122449 , 387.97959184,\n",
       "       408.34693878, 428.71428571, 449.08163265, 469.44897959,\n",
       "       489.81632653, 510.18367347, 530.55102041, 550.91836735,\n",
       "       571.28571429, 591.65306122, 612.02040816, 632.3877551 ,\n",
       "       652.75510204, 673.12244898, 693.48979592, 713.85714286,\n",
       "       734.2244898 , 754.59183673, 774.95918367, 795.32653061,\n",
       "       815.69387755, 836.06122449, 856.42857143, 876.79591837,\n",
       "       897.16326531, 917.53061224, 937.89795918, 958.26530612,\n",
       "       978.63265306, 999.        ])"
      ]
     },
     "execution_count": 28,
     "metadata": {},
     "output_type": "execute_result"
    }
   ],
   "source": [
    "np.linspace(1,999,50)"
   ]
  },
  {
   "cell_type": "code",
   "execution_count": 29,
   "id": "2a4f9744",
   "metadata": {},
   "outputs": [
    {
     "data": {
      "text/plain": [
       "array([[1, 0, 0, 0, 0, 0, 0, 0, 0, 0],\n",
       "       [0, 1, 0, 0, 0, 0, 0, 0, 0, 0],\n",
       "       [0, 0, 1, 0, 0, 0, 0, 0, 0, 0],\n",
       "       [0, 0, 0, 1, 0, 0, 0, 0, 0, 0],\n",
       "       [0, 0, 0, 0, 1, 0, 0, 0, 0, 0],\n",
       "       [0, 0, 0, 0, 0, 1, 0, 0, 0, 0],\n",
       "       [0, 0, 0, 0, 0, 0, 1, 0, 0, 0],\n",
       "       [0, 0, 0, 0, 0, 0, 0, 1, 0, 0],\n",
       "       [0, 0, 0, 0, 0, 0, 0, 0, 1, 0],\n",
       "       [0, 0, 0, 0, 0, 0, 0, 0, 0, 1]])"
      ]
     },
     "execution_count": 29,
     "metadata": {},
     "output_type": "execute_result"
    }
   ],
   "source": [
    "np.eye(10,dtype=int)"
   ]
  },
  {
   "cell_type": "code",
   "execution_count": 30,
   "id": "d89d6baa",
   "metadata": {},
   "outputs": [
    {
     "data": {
      "text/plain": [
       "array([1, 2, 3])"
      ]
     },
     "execution_count": 30,
     "metadata": {},
     "output_type": "execute_result"
    }
   ],
   "source": [
    "np.random.randn(2,4)\n",
    "arr"
   ]
  },
  {
   "cell_type": "code",
   "execution_count": 31,
   "id": "4b206f78",
   "metadata": {},
   "outputs": [
    {
     "data": {
      "text/plain": [
       "array([[ 0.02778641,  0.25136222, -1.60120099,  1.1828846 , -0.94109397],\n",
       "       [ 0.54261808, -0.73422035,  0.85416065,  1.38504548, -0.60063468],\n",
       "       [-0.04190009,  0.37104229,  0.37555305, -1.9393993 ,  0.31718199]])"
      ]
     },
     "execution_count": 31,
     "metadata": {},
     "output_type": "execute_result"
    }
   ],
   "source": [
    "np.random.randn(3,5)"
   ]
  },
  {
   "cell_type": "code",
   "execution_count": 38,
   "id": "34b7d583",
   "metadata": {},
   "outputs": [
    {
     "data": {
      "text/plain": [
       "63"
      ]
     },
     "execution_count": 38,
     "metadata": {},
     "output_type": "execute_result"
    }
   ],
   "source": [
    "np.random.randint(2,100)"
   ]
  },
  {
   "cell_type": "raw",
   "id": "80a3c925",
   "metadata": {},
   "source": []
  },
  {
   "cell_type": "code",
   "execution_count": 36,
   "id": "28633bf2",
   "metadata": {},
   "outputs": [
    {
     "data": {
      "text/plain": [
       "array([50, 47, 33, 54, 21, 27, 54, 50, 39, 31, 41, 36, 24, 55, 21, 20, 49,\n",
       "       39, 50, 35, 28, 33, 21, 20, 47, 26, 20, 37, 26, 22, 41, 52, 20, 53,\n",
       "       35, 24, 22, 41, 29, 32, 52, 54, 53, 30, 45, 40, 48, 35, 55, 44, 42,\n",
       "       27, 53, 48, 54, 42, 47, 21, 45, 22, 51, 47, 49, 25, 26, 52, 51, 33,\n",
       "       41, 28, 36, 21, 28, 55, 48, 37, 21, 53, 31, 23, 27, 40, 45, 36, 55,\n",
       "       51, 32, 33, 32, 32, 54, 39, 42, 47, 42, 32, 22, 26, 28, 53])"
      ]
     },
     "execution_count": 36,
     "metadata": {},
     "output_type": "execute_result"
    }
   ],
   "source": [
    "np.random.randint(20,56,100)"
   ]
  },
  {
   "cell_type": "code",
   "execution_count": 34,
   "id": "eaa7af6e",
   "metadata": {},
   "outputs": [
    {
     "data": {
      "text/plain": [
       "array([ 0,  1,  2,  3,  4,  5,  6,  7,  8,  9, 10, 11, 12, 13, 14, 15, 16,\n",
       "       17, 18, 19, 20, 21, 22, 23, 24, 25, 26, 27, 28, 29])"
      ]
     },
     "execution_count": 34,
     "metadata": {},
     "output_type": "execute_result"
    }
   ],
   "source": [
    "array=np.arange(30)\n",
    "array"
   ]
  },
  {
   "cell_type": "code",
   "execution_count": 40,
   "id": "2107d7e8",
   "metadata": {},
   "outputs": [
    {
     "data": {
      "text/plain": [
       "array([4, 8, 7, 5, 6, 2, 8, 2, 8, 0, 2, 1, 1, 6, 2, 6, 4, 5, 9, 1, 8, 7,\n",
       "       1, 4, 7, 4, 7, 2, 8, 2, 9, 1, 1, 5, 4, 9, 2, 2, 1, 0, 7, 9, 1, 3,\n",
       "       7, 2, 4, 7, 6, 7])"
      ]
     },
     "execution_count": 40,
     "metadata": {},
     "output_type": "execute_result"
    }
   ],
   "source": [
    "array=np.random.randint(0,10,50)\n",
    "array"
   ]
  },
  {
   "cell_type": "code",
   "execution_count": 43,
   "id": "a6b92288",
   "metadata": {},
   "outputs": [
    {
     "data": {
      "text/plain": [
       "array([[4, 8, 7, 5, 6, 2, 8, 2, 8, 0],\n",
       "       [2, 1, 1, 6, 2, 6, 4, 5, 9, 1],\n",
       "       [8, 7, 1, 4, 7, 4, 7, 2, 8, 2],\n",
       "       [9, 1, 1, 5, 4, 9, 2, 2, 1, 0],\n",
       "       [7, 9, 1, 3, 7, 2, 4, 7, 6, 7]])"
      ]
     },
     "execution_count": 43,
     "metadata": {},
     "output_type": "execute_result"
    }
   ],
   "source": [
    "array.reshape(5,10)"
   ]
  },
  {
   "cell_type": "code",
   "execution_count": null,
   "id": "5eb7db5a",
   "metadata": {},
   "outputs": [],
   "source": []
  }
 ],
 "metadata": {
  "kernelspec": {
   "display_name": "Python 3 (ipykernel)",
   "language": "python",
   "name": "python3"
  },
  "language_info": {
   "codemirror_mode": {
    "name": "ipython",
    "version": 3
   },
   "file_extension": ".py",
   "mimetype": "text/x-python",
   "name": "python",
   "nbconvert_exporter": "python",
   "pygments_lexer": "ipython3",
   "version": "3.11.5"
  }
 },
 "nbformat": 4,
 "nbformat_minor": 5
}
